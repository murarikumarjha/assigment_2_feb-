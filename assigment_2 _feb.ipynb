{
 "cells": [
  {
   "cell_type": "markdown",
   "id": "a093d784-0a85-4874-b2b2-49fe23746afa",
   "metadata": {},
   "source": [
    "Q1. Explain with an example each when to use a for loop and a while loop."
   ]
  },
  {
   "cell_type": "markdown",
   "id": "bb451660-48ea-44b8-a2c8-bd7fa45bea33",
   "metadata": {},
   "source": [
    "ans~ : The for loop is used when we know the number of iterations, that is, how many times a statement must \n",
    "        be executed. That is why, when we initialize the for loop, we must define the ending point.\n",
    "\n",
    "A while loop is used when the number of iterations is unknown. It is used when we need to end the loop on a condition other than the number of repetitions. It is not necessary to know the condition ahead of time in this case. That is why we can use a boolean expression in the loop's initialization."
   ]
  },
  {
   "cell_type": "code",
   "execution_count": 8,
   "id": "18f928f0-1e35-4df7-a928-03ee14bb220b",
   "metadata": {},
   "outputs": [
    {
     "name": "stdout",
     "output_type": "stream",
     "text": [
      "38\n",
      "Hello please give full marks please...\n",
      "Hello please give full marks please...\n",
      "Hello please give full marks please...\n",
      "Hello please give full marks please...\n",
      "Hello please give full marks please...\n",
      "Hello please give full marks please...\n",
      "Hello please give full marks please...\n",
      "Hello please give full marks please...\n",
      "Hello please give full marks please...\n",
      "Hello please give full marks please...\n",
      "Hello please give full marks please...\n",
      "Hello please give full marks please...\n",
      "Hello please give full marks please...\n",
      "Hello please give full marks please...\n",
      "Hello please give full marks please...\n",
      "Hello please give full marks please...\n",
      "Hello please give full marks please...\n",
      "Hello please give full marks please...\n",
      "Hello please give full marks please...\n",
      "Hello please give full marks please...\n",
      "Hello please give full marks please...\n",
      "Hello please give full marks please...\n",
      "Hello please give full marks please...\n",
      "Hello please give full marks please...\n",
      "Hello please give full marks please...\n",
      "Hello please give full marks please...\n",
      "Hello please give full marks please...\n",
      "Hello please give full marks please...\n",
      "Hello please give full marks please...\n",
      "Hello please give full marks please...\n",
      "Hello please give full marks please...\n",
      "Hello please give full marks please...\n",
      "Hello please give full marks please...\n",
      "Hello please give full marks please...\n",
      "Hello please give full marks please...\n",
      "Hello please give full marks please...\n",
      "Hello please give full marks please...\n",
      "Hello please give full marks please...\n"
     ]
    }
   ],
   "source": [
    "# EXAMPLE\n",
    "i = \"Hello please give full marks please...\"\n",
    "print(len(i))\n",
    "for data in i :\n",
    "    print(i) # it will run 28 times"
   ]
  },
  {
   "cell_type": "code",
   "execution_count": 8,
   "id": "396389af-a1c3-41cf-9a1e-1c9dd96f0d60",
   "metadata": {},
   "outputs": [
    {
     "name": "stdout",
     "output_type": "stream",
     "text": [
      "1\n",
      "2\n",
      "3\n",
      "4\n",
      "5\n",
      "6\n",
      "7\n",
      "8\n",
      "9\n",
      "10\n"
     ]
    }
   ],
   "source": [
    "i = 1\n",
    "while (i<=10):\n",
    "    print(i)\n",
    "    i=i+1\n",
    "    # print number from 1 to 10\n",
    "# answer of question 1 is over "
   ]
  },
  {
   "cell_type": "markdown",
   "id": "59ad87c9-65bb-40e2-a6c6-c1a5583525a8",
   "metadata": {},
   "source": [
    "Q2. Write a python program to print the sum and product of the first 10 natural numbers using for\n",
    "and while loop."
   ]
  },
  {
   "cell_type": "code",
   "execution_count": 29,
   "id": "238a294d-91ea-486e-916a-9eaf74569dad",
   "metadata": {},
   "outputs": [],
   "source": [
    "#ans \n",
    "i =1\n",
    "sum =0\n",
    "product =1\n",
    "while i<11:\n",
    "    sum = sum+i \n",
    "    product = i * product\n",
    "    i=i+1"
   ]
  },
  {
   "cell_type": "code",
   "execution_count": 30,
   "id": "45d7939e-288c-4d32-b36a-d9dd24c23a47",
   "metadata": {},
   "outputs": [
    {
     "data": {
      "text/plain": [
       "3628800"
      ]
     },
     "execution_count": 30,
     "metadata": {},
     "output_type": "execute_result"
    }
   ],
   "source": [
    "prod # from  1 to 10 "
   ]
  },
  {
   "cell_type": "code",
   "execution_count": 31,
   "id": "be7ac787-2872-42a8-a2cd-2f0a0c1e0931",
   "metadata": {},
   "outputs": [
    {
     "data": {
      "text/plain": [
       "55"
      ]
     },
     "execution_count": 31,
     "metadata": {},
     "output_type": "execute_result"
    }
   ],
   "source": [
    "sum # from i to 10 "
   ]
  },
  {
   "cell_type": "markdown",
   "id": "d0720b45-8d77-4ca6-b0b1-95d0b6b38598",
   "metadata": {},
   "source": [
    "Q3. Create a python program to compute the electricity bill for a household.\n",
    "The per-unit charges in rupees are as follows: For the first 100 units, the user will be charged Rs. 4.5 per\n",
    "unit, for the next 100 units, the user will be charged Rs. 6 per unit, and for the next 100 units, the user will\n",
    "be charged Rs. 10 per unit, After 300 units and above the user will be charged Rs. 20 per unit."
   ]
  },
  {
   "cell_type": "code",
   "execution_count": 5,
   "id": "59b09a00-ffab-43b8-bb67-9ed9de174dba",
   "metadata": {},
   "outputs": [
    {
     "name": "stdin",
     "output_type": "stream",
     "text": [
      "Units of electricity used in month 100\n"
     ]
    },
    {
     "name": "stdout",
     "output_type": "stream",
     "text": [
      "450.0\n"
     ]
    }
   ],
   "source": [
    "units = int(input(\"Units of electricity used in month\"))\n",
    "if units <= 100:\n",
    "    print(100*4.5)\n",
    "elif units <=200:\n",
    "    print((100*4.5)+((units - 100)*6))\n",
    "elif units <=300:\n",
    "    print((100*4.5)+(100*6)+((units-200)*10))\n",
    "elif units>300:\n",
    "    print((100*4.5)+(100*6)+(100*10)+((units-300)*25))\n",
    "    "
   ]
  },
  {
   "cell_type": "markdown",
   "id": "6c5f7b0b-a7f7-4408-a463-d4ee190aa93e",
   "metadata": {},
   "source": [
    "Q4. Create a list of numbers from 1 to 100. Use for loop and while loop to calculate the cube of each\n",
    "number and if the cube of that number is divisible by 4 or 5 then append that number in a list and print\n",
    "that list."
   ]
  },
  {
   "cell_type": "code",
   "execution_count": 6,
   "id": "fca1da9e-f63b-4cad-91e4-e07fc50f961b",
   "metadata": {},
   "outputs": [
    {
     "name": "stdout",
     "output_type": "stream",
     "text": [
      "[1000, 8000, 27000, 64000, 125000, 216000, 343000, 512000, 729000]\n"
     ]
    }
   ],
   "source": [
    "l = list(range(1,100,1))\n",
    "# print(l)\n",
    "\n",
    "# Cube List using loop\n",
    "cube_list = []\n",
    "for i in l:\n",
    "    if (i*i*i)%4==0 and (i*i*i)%5==0:\n",
    "        cube_list.append(i*i*i)\n",
    "\n",
    "# printing result\n",
    "print(cube_list)"
   ]
  },
  {
   "cell_type": "markdown",
   "id": "3d731f4d-5008-4d3d-80a8-6d52040bdce2",
   "metadata": {},
   "source": [
    "Q5. Write a program to filter count vowels in the below-given string.\n",
    "string = \"I want to become a data scientist\""
   ]
  },
  {
   "cell_type": "code",
   "execution_count": 7,
   "id": "ce8b09c1-340c-4bc2-97e7-facb6b8bd143",
   "metadata": {},
   "outputs": [
    {
     "name": "stdout",
     "output_type": "stream",
     "text": [
      "12\n"
     ]
    }
   ],
   "source": [
    "string = \"I want to become a data scientist\"\n",
    "volo = 0\n",
    "for i in string:\n",
    "    if i==\"a\" or i==\"A\" or i==\"e\" or i==\"E\" or i==\"i\" or i==\"I\"  or i==\"o\" or i==\"O\" or i==\"u\" or i==\"U\":\n",
    "        volo= volo + 1\n",
    "print(volo)"
   ]
  },
  {
   "cell_type": "code",
   "execution_count": null,
   "id": "85094303-da9b-4891-acc1-3dfdcff83e35",
   "metadata": {},
   "outputs": [],
   "source": []
  }
 ],
 "metadata": {
  "kernelspec": {
   "display_name": "Python 3 (ipykernel)",
   "language": "python",
   "name": "python3"
  },
  "language_info": {
   "codemirror_mode": {
    "name": "ipython",
    "version": 3
   },
   "file_extension": ".py",
   "mimetype": "text/x-python",
   "name": "python",
   "nbconvert_exporter": "python",
   "pygments_lexer": "ipython3",
   "version": "3.10.8"
  }
 },
 "nbformat": 4,
 "nbformat_minor": 5
}
